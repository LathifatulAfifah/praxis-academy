{
 "cells": [
  {
   "cell_type": "code",
   "execution_count": 12,
   "metadata": {},
   "outputs": [],
   "source": [
    "#SciPy Tutorial - https://www.edureka.co/blog/scipy-tutorial/\n",
    "\n",
    "from scipy import cluster"
   ]
  },
  {
   "cell_type": "code",
   "execution_count": null,
   "metadata": {},
   "outputs": [
    {
     "name": "stdout",
     "output_type": "stream",
     "text": [
      "Help on package scipy.cluster in scipy:\n",
      "\n",
      "NAME\n",
      "    scipy.cluster\n",
      "\n",
      "DESCRIPTION\n",
      "    =========================================\n",
      "    Clustering package (:mod:`scipy.cluster`)\n",
      "    =========================================\n",
      "    \n",
      "    .. currentmodule:: scipy.cluster\n",
      "    \n",
      "    :mod:`scipy.cluster.vq`\n",
      "    \n",
      "    Clustering algorithms are useful in information theory, target detection,\n",
      "    communications, compression, and other areas.  The `vq` module only\n",
      "    supports vector quantization and the k-means algorithms.\n",
      "    \n",
      "    :mod:`scipy.cluster.hierarchy`\n",
      "    \n",
      "    The `hierarchy` module provides functions for hierarchical and\n",
      "    agglomerative clustering.  Its features include generating hierarchical\n",
      "    clusters from distance matrices,\n",
      "    calculating statistics on clusters, cutting linkages\n",
      "    to generate flat clusters, and visualizing clusters with dendrograms.\n",
      "\n",
      "PACKAGE CONTENTS\n",
      "    _hierarchy\n",
      "    _optimal_leaf_ordering\n",
      "    _vq\n",
      "    hierarchy\n",
      "    setup\n",
      "    tests (package)\n",
      "    vq\n",
      "\n",
      "DATA\n",
      "    __all__ = ['vq', 'hierarchy']\n",
      "\n",
      "FILE\n",
      "    c:\\programdata\\anaconda3\\lib\\site-packages\\scipy\\cluster\\__init__.py\n",
      "\n",
      "\n",
      "\n",
      "Welcome to Python 3.7's help utility!\n",
      "\n",
      "If this is your first time using Python, you should definitely check out\n",
      "the tutorial on the Internet at https://docs.python.org/3.7/tutorial/.\n",
      "\n",
      "Enter the name of any module, keyword, or topic to get help on writing\n",
      "Python programs and using Python modules.  To quit this help utility and\n",
      "return to the interpreter, just type \"quit\".\n",
      "\n",
      "To get a list of available modules, keywords, symbols, or topics, type\n",
      "\"modules\", \"keywords\", \"symbols\", or \"topics\".  Each module also comes\n",
      "with a one-line summary of what it does; to list the modules whose name\n",
      "or summary contain a given string such as \"spam\", type \"modules spam\".\n",
      "\n"
     ]
    }
   ],
   "source": [
    "#Basic Functions\n",
    "#Interaction with NumPy\n",
    "\n",
    "#help()\n",
    "\n",
    "from scipy import cluster\n",
    "help(cluster)                #with parameter\n",
    "help()                       #without parameter"
   ]
  },
  {
   "cell_type": "code",
   "execution_count": null,
   "metadata": {},
   "outputs": [],
   "source": [
    "#info()\n",
    "\n",
    "scipy.info(cluster)"
   ]
  },
  {
   "cell_type": "code",
   "execution_count": null,
   "metadata": {},
   "outputs": [],
   "source": [
    "# source()\n",
    "\n",
    "scipy.source(cluster)"
   ]
  },
  {
   "cell_type": "code",
   "execution_count": null,
   "metadata": {},
   "outputs": [],
   "source": [
    "# Exponential and Trigonometric Functions\n",
    "\n",
    "from scipy import special\n",
    "a = special.exp10(3)\n",
    "print(a)\n",
    " \n",
    "b = special.exp2(3)\n",
    "print(b)\n",
    " \n",
    "c = special.sindg(90)\n",
    "print(c)\n",
    " \n",
    "d = special.cosdg(45)\n",
    "print(d)\n"
   ]
  },
  {
   "cell_type": "code",
   "execution_count": null,
   "metadata": {},
   "outputs": [],
   "source": [
    "# Integration Function\n",
    "\n",
    "quad(func, a, b, args=(), full_output=0, epsabs=1.49e-08, epsrel=1.49e-08, limit=50, points=None, weight=None, wvar=None, wopts=None, maxp1=50, limlst=50)"
   ]
  },
  {
   "cell_type": "code",
   "execution_count": null,
   "metadata": {},
   "outputs": [],
   "source": [
    "import scipy as sp"
   ]
  },
  {
   "cell_type": "code",
   "execution_count": null,
   "metadata": {},
   "outputs": [],
   "source": [
    "from scipy import special\n",
    "from scipy import integrate\n",
    "a= lambda x:special.exp10(x)\n",
    "b = scipy.integrate.quad(a, 0, 1)\n",
    "print(b)"
   ]
  },
  {
   "cell_type": "code",
   "execution_count": null,
   "metadata": {},
   "outputs": [],
   "source": [
    "# Double Integral Function\n",
    "\n",
    "\n",
    "from scipy import integrate\n",
    "a = lambda y, x: x*y**2\n",
    "b = lambda x: 1\n",
    "c = lambda x: -1\n",
    "integrate.dblquad(a, 0, 2, b, c)"
   ]
  },
  {
   "cell_type": "code",
   "execution_count": null,
   "metadata": {},
   "outputs": [],
   "source": [
    "# Rosenbrook Function\n",
    "\n",
    "import numpy as np\n",
    "from scipy.optimize import rosen\n",
    "a = 1.2 * np.arange(5)\n",
    "rosen(a)"
   ]
  },
  {
   "cell_type": "code",
   "execution_count": null,
   "metadata": {},
   "outputs": [],
   "source": [
    "# Nelder-Mead\n",
    "\n",
    "from scipy import optimize\n",
    "a = [2.4, 1.7, 3.1, 2.9, 0.2]\n",
    "b = optimize.minimize(optimize.rosen, a, method='Nelder-Mead')\n",
    "b.x"
   ]
  },
  {
   "cell_type": "code",
   "execution_count": null,
   "metadata": {},
   "outputs": [],
   "source": [
    "# Interpolation Functions\n",
    "\n",
    "import matplotlib.pyplot as plt\n",
    "from scipy import interpolate\n",
    "x = np.arange(5, 20)\n",
    "y = np.exp(x/3.0)\n",
    "f = interpolate.interp1d(x, y)x1 = np.arange(6, 12)\n",
    "y1 = f(x1)   # use interpolation function returned by `interp1d`\n",
    "plt.plot(x, y, 'o', x1, y1, '--')\n",
    "plt.show()"
   ]
  },
  {
   "cell_type": "code",
   "execution_count": null,
   "metadata": {},
   "outputs": [],
   "source": [
    "# Multivariate Interpolation\n",
    "\n",
    "from scipy import interpolate\n",
    "import matplotlib.pyplot as plt\n",
    "x = np.arange(0,10)\n",
    "y = np.arange(10,25)\n",
    "x1, y1 = np.meshgrid(x, y)\n",
    "z = np.tan(xx+yy)\n",
    "f = interpolate.interp2d(x, y, z, kind='cubic')\n",
    "x2 = np.arange(2,8)\n",
    "y2 = np.arange(15,20)\n",
    "z2 = f(xnew, ynew)\n",
    "plt.plot(x, z[0, :], 'ro-', x2, z2[0, :], '--')\n",
    "plt.show()"
   ]
  },
  {
   "cell_type": "code",
   "execution_count": null,
   "metadata": {},
   "outputs": [],
   "source": [
    "# Fourier Transform Functions\n",
    "\n",
    "from scipy.fftpack import fft, ifft\n",
    "x = np.array([0,1,2,3])\n",
    "y = fft(x)\n",
    "print(y)"
   ]
  },
  {
   "cell_type": "code",
   "execution_count": null,
   "metadata": {},
   "outputs": [],
   "source": [
    "from scipy.fftpack import fft, ifft\n",
    "x = np.array([0,1,2,3])\n",
    "y = ifft(x)\n",
    "print(y)"
   ]
  },
  {
   "cell_type": "code",
   "execution_count": null,
   "metadata": {},
   "outputs": [],
   "source": [
    "# Signal Processing Functions\n",
    "# Sintax order_filter(a, domain, rank)\n",
    "\n",
    "from scipy import signal\n",
    "x = np.arange(35).reshape(7, 5)\n",
    "domain = np.identity(3)\n",
    "print(x,end='nn')\n",
    "print(signal.order_filter(x, domain, 1))"
   ]
  },
  {
   "cell_type": "code",
   "execution_count": 7,
   "metadata": {},
   "outputs": [
    {
     "data": {
      "image/png": "[encoded data removed]",
      "text/plain": [
       "<Figure size 432x288 with 1 Axes>"
      ]
     },
     "metadata": {
      "needs_background": "light"
     },
     "output_type": "display_data"
    }
   ],
   "source": [
    "# Waveforms\n",
    "\n",
    "from scipy.signal import chirp, spectrogram\n",
    "import matplotlib.pyplot as plt\n",
    "t = np.linspace(6, 10, 500)\n",
    "w = chirp(t, f0=4, f1=2, t1=5, method='linear')\n",
    "plt.plot(t, w)\n",
    "plt.title(\"Linear Chirp\")\n",
    "plt.xlabel('time in sec)')\n",
    "plt.show()"
   ]
  },
  {
   "cell_type": "code",
   "execution_count": 3,
   "metadata": {},
   "outputs": [
    {
     "name": "stdout",
     "output_type": "stream",
     "text": [
      "[[-0.6  0.4]\n",
      " [ 0.8 -0.2]]\n"
     ]
    }
   ],
   "source": [
    "# Linear Algebra\n",
    "\n",
    "import numpy as np\n",
    "from scipy import linalg\n",
    "A = np.array([[1,2], [4,3]])\n",
    "B = linalg.inv(A)\n",
    "print(B)"
   ]
  },
  {
   "cell_type": "code",
   "execution_count": 5,
   "metadata": {},
   "outputs": [
    {
     "name": "stdout",
     "output_type": "stream",
     "text": [
      "-5.0\n"
     ]
    }
   ],
   "source": [
    "# Finding the Determinants\n",
    "\n",
    "import numpy as np\n",
    "from scipy import linalg\n",
    "A = np.array([[1,2], [4,3]])\n",
    "B = linalg.det(A)\n",
    "print(B)"
   ]
  },
  {
   "cell_type": "code",
   "execution_count": 8,
   "metadata": {},
   "outputs": [
    {
     "name": "stdout",
     "output_type": "stream",
     "text": [
      "Selected eigenvalues : [-2.53382695  1.66735639  3.69488657 12.17158399]\n",
      "Complex ndarray : [[ 0.69205614  0.5829305   0.25682823 -0.33954321]\n",
      " [-0.68277875  0.46838936  0.03700454 -0.5595134 ]\n",
      " [ 0.23275694 -0.29164622 -0.72710245 -0.57627139]\n",
      " [ 0.02637572 -0.59644441  0.63560361 -0.48945525]]\n"
     ]
    }
   ],
   "source": [
    "# Sparse Eigenvalues\n",
    "\n",
    "from scipy.linalg import eigh\n",
    "import numpy as np\n",
    "A = np.array([[1, 2, 3, 4], [4, 3, 2, 1], [1, 4, 6, 3], [2, 3, 2, 5]])\n",
    "a, b = eigh(A)\n",
    "print(\"Selected eigenvalues :\", a)\n",
    "print(\"Complex ndarray :\", b)"
   ]
  },
  {
   "cell_type": "code",
   "execution_count": 9,
   "metadata": {
    "scrolled": true
   },
   "outputs": [
    {
     "name": "stdout",
     "output_type": "stream",
     "text": [
      "<scipy.spatial.qhull.Delaunay object at 0x0000005B4731A710>\n",
      "[[3 2 1]\n",
      " [3 1 0]]\n"
     ]
    },
    {
     "data": {
      "image/png": "[encoded data removed]",
      "text/plain": [
       "<Figure size 432x288 with 1 Axes>"
      ]
     },
     "metadata": {
      "needs_background": "light"
     },
     "output_type": "display_data"
    }
   ],
   "source": [
    "# Spatial Data Structures and Algorithms\n",
    "# Delaunay triangulations\n",
    "\n",
    "import matplotlib.pyplot as plt\n",
    "from scipy.spatial import Delaunay\n",
    "points = np.array([[0, 1], [1, 1], [1, 0],[0, 0]])\n",
    "a = Delaunay(points)       #Delaunay object\n",
    "print(a)\n",
    "print(a.simplices)\n",
    "plt.triplot(points[:,0], points[:,1], a.simplices)\n",
    "plt.plot(points[:,1], points[:,0], 'o')\n",
    "plt.show()"
   ]
  },
  {
   "cell_type": "code",
   "execution_count": null,
   "metadata": {},
   "outputs": [],
   "source": [
    "# Multidimensional Image Processing Functions\n",
    "# Convolution and correlation\n",
    "\n",
    "import numpy as np\n",
    "from scipy.ndimage import correlate1d\n",
    "correlate1d([3,5,1,7,2,6,9,4], weights=[1,2])"
   ]
  },
  {
   "cell_type": "code",
   "execution_count": 11,
   "metadata": {},
   "outputs": [],
   "source": [
    "# File IO\n",
    "\n",
    "import scipy.io as sio"
   ]
  },
  {
   "cell_type": "code",
   "execution_count": null,
   "metadata": {},
   "outputs": [],
   "source": []
  },
  {
   "cell_type": "code",
   "execution_count": null,
   "metadata": {},
   "outputs": [],
   "source": []
  }
 ],
 "metadata": {
  "kernelspec": {
   "display_name": "Python 3",
   "language": "python",
   "name": "python3"
  },
  "language_info": {
   "codemirror_mode": {
    "name": "ipython",
    "version": 3
   },
   "file_extension": ".py",
   "mimetype": "text/x-python",
   "name": "python",
   "nbconvert_exporter": "python",
   "pygments_lexer": "ipython3",
   "version": "3.7.3"
  }
 },
 "nbformat": 4,
 "nbformat_minor": 2
}
