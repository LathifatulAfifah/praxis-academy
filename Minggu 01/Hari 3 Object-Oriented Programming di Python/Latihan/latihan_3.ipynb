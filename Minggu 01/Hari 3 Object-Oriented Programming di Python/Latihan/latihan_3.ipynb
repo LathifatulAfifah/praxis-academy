{
  "nbformat": 4,
  "nbformat_minor": 0,
  "metadata": {
    "colab": {
      "name": "latihan 3.ipynb",
      "provenance": [],
      "collapsed_sections": []
    },
    "kernelspec": {
      "name": "python3",
      "display_name": "Python 3"
    }
  },
  "cells": [
    {
      "cell_type": "code",
      "metadata": {
        "id": "a93TEkJjmnaX",
        "colab_type": "code",
        "colab": {
          "base_uri": "https://localhost:8080/",
          "height": 51
        },
        "outputId": "81f2d978-3ee5-44bc-92c6-caedd6d953ff"
      },
      "source": [
        "#Advanced Object Oriented Programming\n",
        "#Inheritance Revisited\n",
        "\n",
        "class Animal:\n",
        "    def __init__(self, name):    # Constructor of the class\n",
        "        self.name = name\n",
        "\n",
        "    def speak(self):              # Abstract method, defined by convention only\n",
        "        raise NotImplementedError(\"Subclass must implement abstract method\")\n",
        "\n",
        "\n",
        "class Dog(Animal):\n",
        "    def speak(self):\n",
        "        return self.name+' says Woof!'\n",
        "    \n",
        "class Cat(Animal):\n",
        "    def speak(self):\n",
        "        return self.name+' says Meow!'\n",
        "    \n",
        "fido = Dog('Fido')\n",
        "isis = Cat('Isis')\n",
        "\n",
        "print(fido.speak())\n",
        "print(isis.speak())\n"
      ],
      "execution_count": 1,
      "outputs": [
        {
          "output_type": "stream",
          "text": [
            "Fido says Woof!\n",
            "Isis says Meow!\n"
          ],
          "name": "stdout"
        }
      ]
    },
    {
      "cell_type": "code",
      "metadata": {
        "id": "HQ73NmN_oR0V",
        "colab_type": "code",
        "colab": {}
      },
      "source": [
        "class Animal:\n",
        "    def __init__(self,name,legs):\n",
        "        self.name = name\n",
        "        self.legs = legs\n",
        "\n",
        "class Bear(Animal):\n",
        "    def __init__(self,name,legs=4,hibernate='yes'):\n",
        "        self.name = name\n",
        "        self.legs = legs\n",
        "        self.hibernate = hibernate\n"
      ],
      "execution_count": 0,
      "outputs": []
    },
    {
      "cell_type": "code",
      "metadata": {
        "id": "xsOCA3haoah5",
        "colab_type": "code",
        "colab": {
          "base_uri": "https://localhost:8080/",
          "height": 68
        },
        "outputId": "2e72fbf1-d334-4ad4-e445-65a52759cf2b"
      },
      "source": [
        "class Animal:\n",
        "    def __init__(self,name,legs):\n",
        "        self.name = name\n",
        "        self.legs = legs\n",
        "\n",
        "class Bear(Animal):\n",
        "    def __init__(self,name,legs=4,hibernate='yes'):\n",
        "        Animal.__init__(self,name,legs)\n",
        "        self.hibernate = hibernate\n",
        "        \n",
        "yogi = Bear('Yogi')\n",
        "print(yogi.name)\n",
        "print(yogi.legs)\n",
        "print(yogi.hibernate)\n"
      ],
      "execution_count": 4,
      "outputs": [
        {
          "output_type": "stream",
          "text": [
            "Yogi\n",
            "4\n",
            "yes\n"
          ],
          "name": "stdout"
        }
      ]
    },
    {
      "cell_type": "code",
      "metadata": {
        "id": "mJ-j0jm2oucf",
        "colab_type": "code",
        "colab": {}
      },
      "source": [
        "#Multiple Inheritance\n",
        "\n",
        "class Car:\n",
        "    def __init__(self,wheels=4):\n",
        "        self.wheels = wheels\n",
        "        # We'll say that all cars, no matter their engine, have four wheels by default.\n",
        "\n",
        "class Gasoline(Car):\n",
        "    def __init__(self,engine='Gasoline',tank_cap=20):\n",
        "        Car.__init__(self)\n",
        "        self.engine = engine\n",
        "        self.tank_cap = tank_cap # represents fuel tank capacity in gallons\n",
        "        self.tank = 0\n",
        "        \n",
        "    def refuel(self):\n",
        "        self.tank = self.tank_cap\n",
        "        \n",
        "    \n",
        "class Electric(Car):\n",
        "    def __init__(self,engine='Electric',kWh_cap=60):\n",
        "        Car.__init__(self)\n",
        "        self.engine = engine\n",
        "        self.kWh_cap = kWh_cap # represents battery capacity in kilowatt-hours\n",
        "        self.kWh = 0\n",
        "    \n",
        "    def recharge(self):\n",
        "        self.kWh = self.kWh_cap\n"
      ],
      "execution_count": 0,
      "outputs": []
    },
    {
      "cell_type": "code",
      "metadata": {
        "id": "82qopG3zo5h2",
        "colab_type": "code",
        "colab": {
          "base_uri": "https://localhost:8080/",
          "height": 231
        },
        "outputId": "b7a77dd1-394b-4694-bef2-37a0b547d634"
      },
      "source": [
        "class Hybrid(Gasoline, Electric):\n",
        "    def __init__(self,engine='Hybrid',tank_cap=11,kWh_cap=5):\n",
        "        Gasoline.__init__(self,engine,tank_cap)\n",
        "        Electric.__init__(self,engine,kWh_cap)\n",
        "        \n",
        "        \n",
        "prius = Hybrid()\n",
        "print(prius.tank)\n",
        "print(prius.kWh)\n"
      ],
      "execution_count": 10,
      "outputs": [
        {
          "output_type": "error",
          "ename": "NameError",
          "evalue": "ignored",
          "traceback": [
            "\u001b[0;31m---------------------------------------------------------------------------\u001b[0m",
            "\u001b[0;31mNameError\u001b[0m                                 Traceback (most recent call last)",
            "\u001b[0;32m<ipython-input-10-f20a267d7fe6>\u001b[0m in \u001b[0;36m<module>\u001b[0;34m()\u001b[0m\n\u001b[0;32m----> 1\u001b[0;31m \u001b[0;32mclass\u001b[0m \u001b[0mHybrid\u001b[0m\u001b[0;34m(\u001b[0m\u001b[0mGasoline\u001b[0m\u001b[0;34m,\u001b[0m \u001b[0mElectric\u001b[0m\u001b[0;34m)\u001b[0m\u001b[0;34m:\u001b[0m\u001b[0;34m\u001b[0m\u001b[0;34m\u001b[0m\u001b[0m\n\u001b[0m\u001b[1;32m      2\u001b[0m     \u001b[0;32mdef\u001b[0m \u001b[0m__init__\u001b[0m\u001b[0;34m(\u001b[0m\u001b[0mself\u001b[0m\u001b[0;34m,\u001b[0m\u001b[0mengine\u001b[0m\u001b[0;34m=\u001b[0m\u001b[0;34m'Hybrid'\u001b[0m\u001b[0;34m,\u001b[0m\u001b[0mtank_cap\u001b[0m\u001b[0;34m=\u001b[0m\u001b[0;36m11\u001b[0m\u001b[0;34m,\u001b[0m\u001b[0mkWh_cap\u001b[0m\u001b[0;34m=\u001b[0m\u001b[0;36m5\u001b[0m\u001b[0;34m)\u001b[0m\u001b[0;34m:\u001b[0m\u001b[0;34m\u001b[0m\u001b[0;34m\u001b[0m\u001b[0m\n\u001b[1;32m      3\u001b[0m         \u001b[0mGasoline\u001b[0m\u001b[0;34m.\u001b[0m\u001b[0m__init__\u001b[0m\u001b[0;34m(\u001b[0m\u001b[0mself\u001b[0m\u001b[0;34m,\u001b[0m\u001b[0mengine\u001b[0m\u001b[0;34m,\u001b[0m\u001b[0mtank_cap\u001b[0m\u001b[0;34m)\u001b[0m\u001b[0;34m\u001b[0m\u001b[0;34m\u001b[0m\u001b[0m\n\u001b[1;32m      4\u001b[0m         \u001b[0mElectric\u001b[0m\u001b[0;34m.\u001b[0m\u001b[0m__init__\u001b[0m\u001b[0;34m(\u001b[0m\u001b[0mself\u001b[0m\u001b[0;34m,\u001b[0m\u001b[0mengine\u001b[0m\u001b[0;34m,\u001b[0m\u001b[0mkWh_cap\u001b[0m\u001b[0;34m)\u001b[0m\u001b[0;34m\u001b[0m\u001b[0;34m\u001b[0m\u001b[0m\n\u001b[1;32m      5\u001b[0m \u001b[0;34m\u001b[0m\u001b[0m\n",
            "\u001b[0;31mNameError\u001b[0m: name 'Gasoline' is not defined"
          ]
        }
      ]
    },
    {
      "cell_type": "code",
      "metadata": {
        "id": "zuKNkYnPo7SP",
        "colab_type": "code",
        "colab": {
          "base_uri": "https://localhost:8080/",
          "height": 180
        },
        "outputId": "086a6353-0458-4006-db7f-81e97628451c"
      },
      "source": [
        "prius.recharge()\n",
        "print(prius.kWh)\n"
      ],
      "execution_count": 7,
      "outputs": [
        {
          "output_type": "error",
          "ename": "NameError",
          "evalue": "ignored",
          "traceback": [
            "\u001b[0;31m---------------------------------------------------------------------------\u001b[0m",
            "\u001b[0;31mNameError\u001b[0m                                 Traceback (most recent call last)",
            "\u001b[0;32m<ipython-input-7-e060a8cf9b0d>\u001b[0m in \u001b[0;36m<module>\u001b[0;34m()\u001b[0m\n\u001b[0;32m----> 1\u001b[0;31m \u001b[0mprius\u001b[0m\u001b[0;34m.\u001b[0m\u001b[0mrecharge\u001b[0m\u001b[0;34m(\u001b[0m\u001b[0;34m)\u001b[0m\u001b[0;34m\u001b[0m\u001b[0;34m\u001b[0m\u001b[0m\n\u001b[0m\u001b[1;32m      2\u001b[0m \u001b[0mprint\u001b[0m\u001b[0;34m(\u001b[0m\u001b[0mprius\u001b[0m\u001b[0;34m.\u001b[0m\u001b[0mkWh\u001b[0m\u001b[0;34m)\u001b[0m\u001b[0;34m\u001b[0m\u001b[0;34m\u001b[0m\u001b[0m\n",
            "\u001b[0;31mNameError\u001b[0m: name 'prius' is not defined"
          ]
        }
      ]
    },
    {
      "cell_type": "code",
      "metadata": {
        "id": "8fcTvRdHqeHk",
        "colab_type": "code",
        "colab": {
          "base_uri": "https://localhost:8080/",
          "height": 34
        },
        "outputId": "20285c98-356e-465b-fe77-98324f456fc2"
      },
      "source": [
        "#Method Resolution Order (MRO)\n",
        "\n",
        "class A:\n",
        "    num = 4\n",
        "    \n",
        "class B(A):\n",
        "    pass\n",
        "\n",
        "class C(A):\n",
        "    num = 5\n",
        "    \n",
        "class D(B,C):\n",
        "    pass\n",
        "\n",
        "D.num"
      ],
      "execution_count": 14,
      "outputs": [
        {
          "output_type": "execute_result",
          "data": {
            "text/plain": [
              "5"
            ]
          },
          "metadata": {
            "tags": []
          },
          "execution_count": 14
        }
      ]
    },
    {
      "cell_type": "code",
      "metadata": {
        "id": "mccl85n3sdHu",
        "colab_type": "code",
        "colab": {}
      },
      "source": [
        "# super ()\n",
        "\n",
        "class MyBaseClass:\n",
        "    def __init__(self,x,y):\n",
        "        self.x = x\n",
        "        self.y = y\n",
        "    \n",
        "class MyDerivedClass(MyBaseClass):\n",
        "    def __init__(self,x,y,z):\n",
        "        super().__init__(x,y)\n",
        "        self.z = z\n"
      ],
      "execution_count": 0,
      "outputs": []
    },
    {
      "cell_type": "code",
      "metadata": {
        "id": "EQR1Q1ZGslrX",
        "colab_type": "code",
        "colab": {}
      },
      "source": [
        "class A:\n",
        "    def truth(self):\n",
        "        return 'All numbers are even'\n",
        "    \n",
        "class B(A):\n",
        "    pass\n",
        "\n",
        "class C(A):\n",
        "    def truth(self):\n",
        "        return 'Some numbers are even'\n"
      ],
      "execution_count": 0,
      "outputs": []
    },
    {
      "cell_type": "code",
      "metadata": {
        "id": "zLSrZRMrsodK",
        "colab_type": "code",
        "colab": {
          "base_uri": "https://localhost:8080/",
          "height": 316
        },
        "outputId": "86894348-0321-4dac-9328-b2eeebd7835b"
      },
      "source": [
        "class D(B,C):\n",
        "    def truth(self,num):\n",
        "        if num%2 == 0:\n",
        "            return A.truth(self)\n",
        "        else:\n",
        "            return super().truth()\n",
        "            \n",
        "d = D()\n",
        "d.truth(5)\n"
      ],
      "execution_count": 17,
      "outputs": [
        {
          "output_type": "error",
          "ename": "AttributeError",
          "evalue": "ignored",
          "traceback": [
            "\u001b[0;31m---------------------------------------------------------------------------\u001b[0m",
            "\u001b[0;31mAttributeError\u001b[0m                            Traceback (most recent call last)",
            "\u001b[0;32m<ipython-input-17-caa225263068>\u001b[0m in \u001b[0;36m<module>\u001b[0;34m()\u001b[0m\n\u001b[1;32m      7\u001b[0m \u001b[0;34m\u001b[0m\u001b[0m\n\u001b[1;32m      8\u001b[0m \u001b[0md\u001b[0m \u001b[0;34m=\u001b[0m \u001b[0mD\u001b[0m\u001b[0;34m(\u001b[0m\u001b[0;34m)\u001b[0m\u001b[0;34m\u001b[0m\u001b[0;34m\u001b[0m\u001b[0m\n\u001b[0;32m----> 9\u001b[0;31m \u001b[0md\u001b[0m\u001b[0;34m.\u001b[0m\u001b[0mtruth\u001b[0m\u001b[0;34m(\u001b[0m\u001b[0;36m5\u001b[0m\u001b[0;34m)\u001b[0m\u001b[0;34m\u001b[0m\u001b[0;34m\u001b[0m\u001b[0m\n\u001b[0m",
            "\u001b[0;32m<ipython-input-17-caa225263068>\u001b[0m in \u001b[0;36mtruth\u001b[0;34m(self, num)\u001b[0m\n\u001b[1;32m      4\u001b[0m             \u001b[0;32mreturn\u001b[0m \u001b[0mA\u001b[0m\u001b[0;34m.\u001b[0m\u001b[0mtruth\u001b[0m\u001b[0;34m(\u001b[0m\u001b[0mself\u001b[0m\u001b[0;34m)\u001b[0m\u001b[0;34m\u001b[0m\u001b[0;34m\u001b[0m\u001b[0m\n\u001b[1;32m      5\u001b[0m         \u001b[0;32melse\u001b[0m\u001b[0;34m:\u001b[0m\u001b[0;34m\u001b[0m\u001b[0;34m\u001b[0m\u001b[0m\n\u001b[0;32m----> 6\u001b[0;31m             \u001b[0;32mreturn\u001b[0m \u001b[0msuper\u001b[0m\u001b[0;34m(\u001b[0m\u001b[0;34m)\u001b[0m\u001b[0;34m.\u001b[0m\u001b[0mtruth\u001b[0m\u001b[0;34m(\u001b[0m\u001b[0;34m)\u001b[0m\u001b[0;34m\u001b[0m\u001b[0;34m\u001b[0m\u001b[0m\n\u001b[0m\u001b[1;32m      7\u001b[0m \u001b[0;34m\u001b[0m\u001b[0m\n\u001b[1;32m      8\u001b[0m \u001b[0md\u001b[0m \u001b[0;34m=\u001b[0m \u001b[0mD\u001b[0m\u001b[0;34m(\u001b[0m\u001b[0;34m)\u001b[0m\u001b[0;34m\u001b[0m\u001b[0;34m\u001b[0m\u001b[0m\n",
            "\u001b[0;31mAttributeError\u001b[0m: 'super' object has no attribute 'truth'"
          ]
        }
      ]
    }
  ]
}