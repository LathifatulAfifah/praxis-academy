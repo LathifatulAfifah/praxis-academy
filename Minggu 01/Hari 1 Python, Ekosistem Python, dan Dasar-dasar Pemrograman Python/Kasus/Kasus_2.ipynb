{
  "nbformat": 4,
  "nbformat_minor": 0,
  "metadata": {
    "colab": {
      "name": "Kasus 2.ipynb",
      "provenance": [],
      "collapsed_sections": []
    },
    "kernelspec": {
      "name": "python3",
      "display_name": "Python 3"
    }
  },
  "cells": [
    {
      "cell_type": "code",
      "metadata": {
        "id": "4OUPn2PjKswg",
        "colab_type": "code",
        "outputId": "656be06d-0d04-4b3f-dfad-a6e1474d4f0a",
        "colab": {
          "base_uri": "https://localhost:8080/",
          "height": 119
        }
      },
      "source": [
        "#BUBBLE SORT\n",
        "\n",
        "def bubblesort(alist):\n",
        "    iterasi = 0\n",
        "    for j in range(len(alist)-1): #model biasa\n",
        "        for i in range(len(alist)-1-j):\n",
        "            if alist[i]>alist[i+1]:\n",
        "                alist[i],alist[i+1]=alist[i+1],alist[i]\n",
        "        iterasi+=1\n",
        "        print(iterasi,alist)\n",
        " \n",
        "alist = [2,5,1,7,6,3,4]\n",
        "bubblesort(alist)\n",
        "\n"
      ],
      "execution_count": 0,
      "outputs": [
        {
          "output_type": "stream",
          "text": [
            "1 [2, 1, 5, 6, 3, 4, 7]\n",
            "2 [1, 2, 5, 3, 4, 6, 7]\n",
            "3 [1, 2, 3, 4, 5, 6, 7]\n",
            "4 [1, 2, 3, 4, 5, 6, 7]\n",
            "5 [1, 2, 3, 4, 5, 6, 7]\n",
            "6 [1, 2, 3, 4, 5, 6, 7]\n"
          ],
          "name": "stdout"
        }
      ]
    },
    {
      "cell_type": "code",
      "metadata": {
        "id": "lDwUOG_NxyNQ",
        "colab_type": "code",
        "outputId": "27a27d7c-a21e-4150-91bd-8a1936c9c8b8",
        "colab": {
          "base_uri": "https://localhost:8080/",
          "height": 221
        }
      },
      "source": [
        "#SELECTION SORT\n",
        "\n",
        "\n",
        "def selection(lis):\n",
        "    iterasi = 0\n",
        "    for i in range(len(lis)-1):\n",
        "        minimal = i\n",
        "        for j in range(i+1,len(lis)):\n",
        "            if lis[j] < lis[minimal]:\n",
        "                minimal = j\n",
        "        iterasi += 1\n",
        "        lis[minimal],lis[i]= lis[i],lis[minimal]\n",
        "        print(iterasi,lis)\n",
        "lis=[3,5,12,10,4,9,14,11,6,8,13,2,7,]\n",
        "selection(lis)\n"
      ],
      "execution_count": 0,
      "outputs": [
        {
          "output_type": "stream",
          "text": [
            "1 [2, 5, 12, 10, 4, 9, 14, 11, 6, 8, 13, 3, 7]\n",
            "2 [2, 3, 12, 10, 4, 9, 14, 11, 6, 8, 13, 5, 7]\n",
            "3 [2, 3, 4, 10, 12, 9, 14, 11, 6, 8, 13, 5, 7]\n",
            "4 [2, 3, 4, 5, 12, 9, 14, 11, 6, 8, 13, 10, 7]\n",
            "5 [2, 3, 4, 5, 6, 9, 14, 11, 12, 8, 13, 10, 7]\n",
            "6 [2, 3, 4, 5, 6, 7, 14, 11, 12, 8, 13, 10, 9]\n",
            "7 [2, 3, 4, 5, 6, 7, 8, 11, 12, 14, 13, 10, 9]\n",
            "8 [2, 3, 4, 5, 6, 7, 8, 9, 12, 14, 13, 10, 11]\n",
            "9 [2, 3, 4, 5, 6, 7, 8, 9, 10, 14, 13, 12, 11]\n",
            "10 [2, 3, 4, 5, 6, 7, 8, 9, 10, 11, 13, 12, 14]\n",
            "11 [2, 3, 4, 5, 6, 7, 8, 9, 10, 11, 12, 13, 14]\n",
            "12 [2, 3, 4, 5, 6, 7, 8, 9, 10, 11, 12, 13, 14]\n"
          ],
          "name": "stdout"
        }
      ]
    },
    {
      "cell_type": "code",
      "metadata": {
        "id": "KhK23-t0z_ti",
        "colab_type": "code",
        "outputId": "765bd53e-7e23-4044-b3e4-e77dd4ccd33e",
        "colab": {
          "base_uri": "https://localhost:8080/",
          "height": 34
        }
      },
      "source": [
        "#INSERTION SORT\n",
        "\n",
        "def InsertionSort(val):\n",
        "   for index in range(1,len(val)):\n",
        " \n",
        "     valueaktif = val[index]\n",
        "     posisi = index\n",
        " \n",
        "     while posisi>0 and val[posisi-1]>valueaktif:\n",
        "         val[posisi]=val[posisi-1]\n",
        "         posisi = posisi-1\n",
        " \n",
        "     val[posisi]=valueaktif\n",
        " \n",
        "DaftarAngka = [2,8,5,3,7,4,1,6]\n",
        "InsertionSort(DaftarAngka)\n",
        "print(DaftarAngka)\n"
      ],
      "execution_count": 0,
      "outputs": [
        {
          "output_type": "stream",
          "text": [
            "[1, 2, 3, 4, 5, 6, 7, 8]\n"
          ],
          "name": "stdout"
        }
      ]
    },
    {
      "cell_type": "code",
      "metadata": {
        "id": "k-qBkI-52dHG",
        "colab_type": "code",
        "outputId": "5a2ded6a-492d-44b8-bc07-4b8f3474e5d1",
        "colab": {
          "base_uri": "https://localhost:8080/",
          "height": 153
        }
      },
      "source": [
        "#QUICK SORT\n",
        "\n",
        "def quickshort(a,start,end):\n",
        "    if start<end:\n",
        "        pindex = partition(a,start,end)\n",
        "        quickshort(a,start,pindex-1)\n",
        "        quickshort(a,pindex+1,end)\n",
        " \n",
        "def partition(a,start,end):\n",
        "    middle = int(end/2)\n",
        "    pivot = a[middle]\n",
        "    pindex = start\n",
        "    for i in range(start,middle):\n",
        "        if a[i]>=pivot:\n",
        "            a[i],a[pindex]=a[pindex],a[i]\n",
        "            pindex = pindex + 1\n",
        "    a[pindex],a[middle]=a[middle],a[pindex]\n",
        "    print(a)\n",
        "    return pindex\n",
        " \n",
        "a = [68,90,78,44,34,20,100,56,34,2]\n",
        "quickshort(a,0,len(a)-1)\n"
      ],
      "execution_count": 0,
      "outputs": [
        {
          "output_type": "stream",
          "text": [
            "[68, 90, 78, 44, 34, 20, 100, 56, 34, 2]\n",
            "[90, 68, 78, 44, 34, 20, 100, 56, 34, 2]\n",
            "[90, 68, 78, 44, 34, 20, 100, 56, 34, 2]\n",
            "[90, 78, 68, 44, 34, 20, 100, 56, 34, 2]\n",
            "[90, 78, 68, 44, 20, 34, 100, 56, 34, 2]\n",
            "[90, 78, 68, 44, 100, 34, 20, 56, 34, 2]\n",
            "[90, 78, 68, 44, 56, 34, 20, 100, 34, 2]\n",
            "[90, 78, 68, 44, 34, 34, 20, 100, 56, 2]\n"
          ],
          "name": "stdout"
        }
      ]
    },
    {
      "cell_type": "code",
      "metadata": {
        "id": "TUij9FIV3AEL",
        "colab_type": "code",
        "colab": {
          "base_uri": "https://localhost:8080/",
          "height": 527
        },
        "outputId": "bf4f5cb8-dd95-4a42-9b7b-0eb87ed32a1b"
      },
      "source": [
        "def merge_sort(list_bilangan):\n",
        "  jumlah_bilangan =  len(list_bilangan)\n",
        "  if jumlah_bilangan > 1:\n",
        "    posisi_tengah = len(list_bilangan)//2\n",
        "    potongan_kiri = list_bilangan[:posisi_tengah]\n",
        "    potongan_kanan = list_bilangan[posisi_tengah:]\n",
        "    \n",
        "    merge_sort(potongan_kiri)\n",
        "    merge_sort(potongan_kanan)\n",
        "\n",
        "    jumlah_bilangan_kiri = len(potongan_kiri)\n",
        "    jumlah_bilangan_kanan = len(potongan_kanan)\n",
        "    c_all,c_kiri,c_kanan = 0,0,0 # pencacah/counter\n",
        "    print('Sebelum merge:',list_bilangan)  \n",
        "    print('Potongan sebelum merge:',potongan_kiri,':',potongan_kanan)\n",
        "    while c_kiri < jumlah_bilangan_kiri or c_kanan < jumlah_bilangan_kanan:\n",
        "      if c_kiri == jumlah_bilangan_kiri: # elemen di potongan kiri habis\n",
        "        list_bilangan[c_all] = potongan_kanan[c_kanan]\n",
        "        c_kanan = c_kanan + 1\n",
        "      elif c_kanan == jumlah_bilangan_kanan: # elemen di potongan kanan habis\n",
        "        list_bilangan[c_all] = potongan_kiri[c_kiri]\n",
        "        c_kiri = c_kiri + 1\n",
        "      elif potongan_kiri[c_kiri] <= potongan_kanan[c_kanan]: # nilai elemen di potongan kiri lebih kecil\n",
        "        list_bilangan[c_all] = potongan_kiri[c_kiri]\n",
        "        c_kiri = c_kiri + 1\n",
        "      else: # nilai elemen di potongan kanan lebih besar\n",
        "        list_bilangan[c_all] = potongan_kanan[c_kanan]\n",
        "        c_kanan = c_kanan + 1\n",
        "      c_all = c_all + 1\n",
        "    print('Setelah merge:', list_bilangan)\n",
        "    print()\n",
        "          \n",
        "angka = [6,5,3,1,8,7,2,4]\n",
        "print('Sebelum sort:',angka)\n",
        "merge_sort(angka)\n",
        "print('Setelah sort:',angka)\n",
        "\n"
      ],
      "execution_count": 3,
      "outputs": [
        {
          "output_type": "stream",
          "text": [
            "Sebelum sort: [6, 5, 3, 1, 8, 7, 2, 4]\n",
            "Sebelum merge: [6, 5]\n",
            "Potongan sebelum merge: [6] : [5]\n",
            "Setelah merge: [5, 6]\n",
            "\n",
            "Sebelum merge: [3, 1]\n",
            "Potongan sebelum merge: [3] : [1]\n",
            "Setelah merge: [1, 3]\n",
            "\n",
            "Sebelum merge: [6, 5, 3, 1]\n",
            "Potongan sebelum merge: [5, 6] : [1, 3]\n",
            "Setelah merge: [1, 3, 5, 6]\n",
            "\n",
            "Sebelum merge: [8, 7]\n",
            "Potongan sebelum merge: [8] : [7]\n",
            "Setelah merge: [7, 8]\n",
            "\n",
            "Sebelum merge: [2, 4]\n",
            "Potongan sebelum merge: [2] : [4]\n",
            "Setelah merge: [2, 4]\n",
            "\n",
            "Sebelum merge: [8, 7, 2, 4]\n",
            "Potongan sebelum merge: [7, 8] : [2, 4]\n",
            "Setelah merge: [2, 4, 7, 8]\n",
            "\n",
            "Sebelum merge: [6, 5, 3, 1, 8, 7, 2, 4]\n",
            "Potongan sebelum merge: [1, 3, 5, 6] : [2, 4, 7, 8]\n",
            "Setelah merge: [1, 2, 3, 4, 5, 6, 7, 8]\n",
            "\n",
            "Setelah sort: [1, 2, 3, 4, 5, 6, 7, 8]\n"
          ],
          "name": "stdout"
        }
      ]
    }
  ]
}