{
  "nbformat": 4,
  "nbformat_minor": 0,
  "metadata": {
    "colab": {
      "name": "Best Practices.ipynb",
      "provenance": [],
      "collapsed_sections": []
    },
    "kernelspec": {
      "name": "python3",
      "display_name": "Python 3"
    }
  },
  "cells": [
    {
      "cell_type": "code",
      "metadata": {
        "id": "DqYDQSWU-PCc",
        "colab_type": "code",
        "outputId": "abadccec-bf9c-4cbe-b745-765d89a3b9ee",
        "colab": {
          "base_uri": "https://localhost:8080/",
          "height": 34
        }
      },
      "source": [
        "# Python Support\n",
        "\n",
        "def add(a, b):\n",
        "    return a + b\n",
        "\n",
        "plus = add\n",
        "plus(3, 4)"
      ],
      "execution_count": 0,
      "outputs": [
        {
          "output_type": "execute_result",
          "data": {
            "text/plain": [
              "7"
            ]
          },
          "metadata": {
            "tags": []
          },
          "execution_count": 2
        }
      ]
    },
    {
      "cell_type": "code",
      "metadata": {
        "id": "gQtLqgUPGV3y",
        "colab_type": "code",
        "outputId": "4bf61df9-76da-435e-af1f-024a02ddef2a",
        "colab": {
          "base_uri": "https://localhost:8080/",
          "height": 34
        }
      },
      "source": [
        "# Lambda\n",
        "\n",
        "(lambda a, b: a + b)(3, 4)\n",
        "\n",
        "addition = lambda a, b: a + b\n",
        "addition(3, 4)"
      ],
      "execution_count": 0,
      "outputs": [
        {
          "output_type": "execute_result",
          "data": {
            "text/plain": [
              "7"
            ]
          },
          "metadata": {
            "tags": []
          },
          "execution_count": 3
        }
      ]
    },
    {
      "cell_type": "code",
      "metadata": {
        "id": "fBENc7v0I7IO",
        "colab_type": "code",
        "outputId": "5fe06695-51f0-4bef-e378-493bbb6d4153",
        "colab": {
          "base_uri": "https://localhost:8080/",
          "height": 119
        }
      },
      "source": [
        "authors = ['Octavia Butler', 'Isaac Asimov', 'Neal Stephenson', 'Margaret Atwood', 'Usula K Le Guin', 'Ray Bradbury']\n",
        "sorted(authors, key=len)  # Returns list ordered by length of author name\n",
        "sorted(authors, key=lambda name: name.split()[-1])  # Returns list ordered alphabetically by last name."
      ],
      "execution_count": 0,
      "outputs": [
        {
          "output_type": "execute_result",
          "data": {
            "text/plain": [
              "['Isaac Asimov',\n",
              " 'Margaret Atwood',\n",
              " 'Ray Bradbury',\n",
              " 'Octavia Butler',\n",
              " 'Usula K Le Guin',\n",
              " 'Neal Stephenson']"
            ]
          },
          "metadata": {
            "tags": []
          },
          "execution_count": 4
        }
      ]
    },
    {
      "cell_type": "code",
      "metadata": {
        "id": "3SpJbNTpJLiX",
        "colab_type": "code",
        "outputId": "bc38bd43-890b-4949-92e9-fbd5614b67cf",
        "colab": {
          "base_uri": "https://localhost:8080/",
          "height": 129
        }
      },
      "source": [
        "# Functools\n",
        "\n",
        "val = [1, 2, 3, 4, 5, 6]\n",
        "\n",
        "# Multiply every item by two\n",
        "list(map(lambda x: x * 2, val)) # [2, 4, 6, 8, 10, 12]\n",
        "# Take the factorial by multiplying the value so far to the next item\n",
        "reduce(lambda: x, y: x * y, val, 1) # 1 * 1 * 2 * 3 * 4 * 5 * 6"
      ],
      "execution_count": 32,
      "outputs": [
        {
          "output_type": "error",
          "ename": "IndentationError",
          "evalue": "ignored",
          "traceback": [
            "\u001b[0;36m  File \u001b[0;32m\"<ipython-input-32-a2ceed909b55>\"\u001b[0;36m, line \u001b[0;32m7\u001b[0m\n\u001b[0;31m    return func(*args, **kwargs)\u001b[0m\n\u001b[0m         ^\u001b[0m\n\u001b[0;31mIndentationError\u001b[0m\u001b[0;31m:\u001b[0m expected an indented block\n"
          ]
        }
      ]
    },
    {
      "cell_type": "code",
      "metadata": {
        "id": "C2-cado7RLNg",
        "colab_type": "code",
        "colab": {
          "base_uri": "https://localhost:8080/",
          "height": 234
        },
        "outputId": "9327ecdf-92fa-4627-8dfc-f893f3df971f"
      },
      "source": [
        "def power(base, exp):\n",
        "     return base ** exp\n",
        "cube = partial(power, exp=3)\n",
        "cube(5)  # returns 125"
      ],
      "execution_count": 33,
      "outputs": [
        {
          "output_type": "error",
          "ename": "NameError",
          "evalue": "ignored",
          "traceback": [
            "\u001b[0;31m---------------------------------------------------------------------------\u001b[0m",
            "\u001b[0;31mNameError\u001b[0m                                 Traceback (most recent call last)",
            "\u001b[0;32m<ipython-input-33-9236257cae5d>\u001b[0m in \u001b[0;36m<module>\u001b[0;34m()\u001b[0m\n\u001b[1;32m      1\u001b[0m \u001b[0;32mdef\u001b[0m \u001b[0mpower\u001b[0m\u001b[0;34m(\u001b[0m\u001b[0mbase\u001b[0m\u001b[0;34m,\u001b[0m \u001b[0mexp\u001b[0m\u001b[0;34m)\u001b[0m\u001b[0;34m:\u001b[0m\u001b[0;34m\u001b[0m\u001b[0;34m\u001b[0m\u001b[0m\n\u001b[1;32m      2\u001b[0m      \u001b[0;32mreturn\u001b[0m \u001b[0mbase\u001b[0m \u001b[0;34m**\u001b[0m \u001b[0mexp\u001b[0m\u001b[0;34m\u001b[0m\u001b[0;34m\u001b[0m\u001b[0m\n\u001b[0;32m----> 3\u001b[0;31m \u001b[0mcube\u001b[0m \u001b[0;34m=\u001b[0m \u001b[0mpartial\u001b[0m\u001b[0;34m(\u001b[0m\u001b[0mpower\u001b[0m\u001b[0;34m,\u001b[0m \u001b[0mexp\u001b[0m\u001b[0;34m=\u001b[0m\u001b[0;36m3\u001b[0m\u001b[0;34m)\u001b[0m\u001b[0;34m\u001b[0m\u001b[0;34m\u001b[0m\u001b[0m\n\u001b[0m\u001b[1;32m      4\u001b[0m \u001b[0mcube\u001b[0m\u001b[0;34m(\u001b[0m\u001b[0;36m5\u001b[0m\u001b[0;34m)\u001b[0m  \u001b[0;31m# returns 125\u001b[0m\u001b[0;34m\u001b[0m\u001b[0;34m\u001b[0m\u001b[0m\n",
            "\u001b[0;31mNameError\u001b[0m: name 'partial' is not defined"
          ]
        }
      ]
    },
    {
      "cell_type": "code",
      "metadata": {
        "id": "_sUpbwnNRN3u",
        "colab_type": "code",
        "colab": {
          "base_uri": "https://localhost:8080/",
          "height": 129
        },
        "outputId": "8b3d8058-df27-4d07-8ea2-ab95ab6df37c"
      },
      "source": [
        "# Decorators\n",
        "\n",
        "def retry(func):\n",
        "    def retried_function(*args, **kwargs):\n",
        "        exc = None\n",
        "        for _ in range(3):\n",
        "            try:\n",
        "               return func(*args, **kwargs)\n",
        "            except Exception as exc:\n",
        "               print(\"Exception raised while calling %s with args:%s, kwargs: %s. Retrying\" % (func, args, kwargs).\n",
        "\n",
        "        raise exc\n",
        "     return retried_function\n",
        "\n",
        "@retry\n",
        "def do_something_risky():\n",
        "    ...\n",
        "\n",
        "retried_function = retry(do_something_risky)  # No need to use `@`"
      ],
      "execution_count": 34,
      "outputs": [
        {
          "output_type": "error",
          "ename": "SyntaxError",
          "evalue": "ignored",
          "traceback": [
            "\u001b[0;36m  File \u001b[0;32m\"<ipython-input-34-d181eef21578>\"\u001b[0;36m, line \u001b[0;32m11\u001b[0m\n\u001b[0;31m    raise exc\u001b[0m\n\u001b[0m        ^\u001b[0m\n\u001b[0;31mSyntaxError\u001b[0m\u001b[0;31m:\u001b[0m invalid syntax\n"
          ]
        }
      ]
    },
    {
      "cell_type": "code",
      "metadata": {
        "id": "6LUgk1OxRaC1",
        "colab_type": "code",
        "colab": {}
      },
      "source": [
        "# Pure Functions\n",
        "\n",
        "dictionary = ['fox', 'boss', 'orange', 'toes', 'fairy', 'cup']\n",
        "def puralize(words):\n",
        "   for i in range(len(words)):\n",
        "       word = words[i]\n",
        "       if word.endswith('s') or word.endswith('x'):\n",
        "           word += 'es'\n",
        "       if word.endswith('y'):\n",
        "           word = word[:-1] + 'ies'\n",
        "       else:\n",
        "           word += 's'\n",
        "       words[i] = word\n",
        "\n",
        "def test_pluralize():\n",
        "    pluralize(dictionary)\n",
        "    assert dictionary == ['foxes', 'bosses', 'oranges', 'toeses', 'fairies', 'cups']"
      ],
      "execution_count": 0,
      "outputs": []
    },
    {
      "cell_type": "code",
      "metadata": {
        "id": "lFK8ZafqR2lx",
        "colab_type": "code",
        "colab": {}
      },
      "source": [
        "dictionary = ['fox', 'boss', 'orange', 'toes', 'fairy', 'cup']\n",
        "def puralize(words):\n",
        "    result = []\n",
        "    for word in words:\n",
        "        word = words[i]\n",
        "        if word.endswith('s') or word.endswith('x'):\n",
        "           plural = ( word + 'es' )\n",
        "        if word.endswith('y'):\n",
        "           plural = word[:-1] + 'ies'\n",
        "        else:\n",
        "           plural = +  's'\n",
        "        result.append(plural)\n",
        "    return result\n",
        "\n",
        "def test_pluralize():\n",
        "    result = pluralize(dictionary)\n",
        "    assert result == ['foxes', 'bosses', 'oranges', 'toeses', 'fairies', 'cups']"
      ],
      "execution_count": 0,
      "outputs": []
    },
    {
      "cell_type": "code",
      "metadata": {
        "id": "TD0E3IDkknJO",
        "colab_type": "code",
        "colab": {
          "base_uri": "https://localhost:8080/",
          "height": 34
        },
        "outputId": "3b0c9cbd-b74d-4ebb-ca8b-09575d84e70d"
      },
      "source": [
        "# Understanding (and avoiding) mutability\n",
        "\n",
        "def add_bar(items=[]):\n",
        "    items.append('bar')\n",
        "    return items\n",
        "\n",
        "l = add_bar()  # l is ['bar']\n",
        "l.append('foo')\n",
        "add_bar() # returns ['bar', 'foo', 'bar']"
      ],
      "execution_count": 52,
      "outputs": [
        {
          "output_type": "execute_result",
          "data": {
            "text/plain": [
              "['bar', 'foo', 'bar']"
            ]
          },
          "metadata": {
            "tags": []
          },
          "execution_count": 52
        }
      ]
    },
    {
      "cell_type": "code",
      "metadata": {
        "id": "cz0TYn2klAXx",
        "colab_type": "code",
        "colab": {}
      },
      "source": [
        "from collections import namedtuple\n",
        "VerbTenses = namedtuple('VerbTenses', ['past', 'present', 'future'])\n",
        "# versus\n",
        "class VerbTenses(object):\n",
        "    def __init__(self, past, present, future):\n",
        "        self.past = past,\n",
        "        self.present = present\n",
        "        self.future = future"
      ],
      "execution_count": 0,
      "outputs": []
    },
    {
      "cell_type": "code",
      "metadata": {
        "id": "iFxPEBqWlHwY",
        "colab_type": "code",
        "colab": {
          "base_uri": "https://localhost:8080/",
          "height": 34
        },
        "outputId": "aac99ea6-07b7-49be-e26d-502470e42d7c"
      },
      "source": [
        "class Bus(object):\n",
        "     passengers = set()\n",
        "     def add_passenger(self, person):\n",
        "        self.passengers.add(person)\n",
        "\n",
        "bus1 = Bus()\n",
        "bus2 = Bus()\n",
        "bus1.add_passenger('abe')\n",
        "bus2.add_passenger('bertha')\n",
        "bus1.passengers  # returns ['abe', 'bertha']\n",
        "bus2.passengers  # also ['abe', 'bertha']"
      ],
      "execution_count": 50,
      "outputs": [
        {
          "output_type": "execute_result",
          "data": {
            "text/plain": [
              "{'abe', 'bertha'}"
            ]
          },
          "metadata": {
            "tags": []
          },
          "execution_count": 50
        }
      ]
    }
  ]
}