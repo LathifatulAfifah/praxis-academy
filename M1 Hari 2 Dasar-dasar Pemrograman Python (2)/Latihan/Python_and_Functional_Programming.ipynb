{
  "nbformat": 4,
  "nbformat_minor": 0,
  "metadata": {
    "colab": {
      "name": "Python and Functional Programming.ipynb",
      "provenance": []
    },
    "kernelspec": {
      "name": "python3",
      "display_name": "Python 3"
    }
  },
  "cells": [
    {
      "cell_type": "code",
      "metadata": {
        "id": "WdKHtfwU1fEN",
        "colab_type": "code",
        "colab": {
          "base_uri": "https://localhost:8080/",
          "height": 34
        },
        "outputId": "a2f3e205-f07f-4568-fa2c-54cb16fbed43"
      },
      "source": [
        "#Python and Functional Programming\n",
        "\n",
        "#Functions as first class objects in python\n",
        "\n",
        "list(map(int, [\"1\", \"2\", \"3\"]))"
      ],
      "execution_count": 1,
      "outputs": [
        {
          "output_type": "execute_result",
          "data": {
            "text/plain": [
              "[1, 2, 3]"
            ]
          },
          "metadata": {
            "tags": []
          },
          "execution_count": 1
        }
      ]
    },
    {
      "cell_type": "code",
      "metadata": {
        "id": "GNofcig82OQy",
        "colab_type": "code",
        "colab": {
          "base_uri": "https://localhost:8080/",
          "height": 34
        },
        "outputId": "fc0dff0c-97cd-4601-fad7-08d5e6bd5764"
      },
      "source": [
        "def hello_world(h):\n",
        "    def world (w):\n",
        "        print (h, w)\n",
        "    return world #retrning functions\n",
        "\n",
        "h = hello_world #assigning  \n",
        "x = h(\"hello\") #assigning\n",
        "x\n",
        "x(\"world\")"
      ],
      "execution_count": 8,
      "outputs": [
        {
          "output_type": "stream",
          "text": [
            "hello world\n"
          ],
          "name": "stdout"
        }
      ]
    },
    {
      "cell_type": "code",
      "metadata": {
        "id": "EvbWNq4c75QJ",
        "colab_type": "code",
        "colab": {
          "base_uri": "https://localhost:8080/",
          "height": 51
        },
        "outputId": "ee4706c4-7fb6-4a6e-c181-8a1111e9db64"
      },
      "source": [
        "function_list = [h, x]\n",
        "function_list"
      ],
      "execution_count": 6,
      "outputs": [
        {
          "output_type": "execute_result",
          "data": {
            "text/plain": [
              "[<function __main__.hello_world>,\n",
              " <function __main__.hello_world.<locals>.world>]"
            ]
          },
          "metadata": {
            "tags": []
          },
          "execution_count": 6
        }
      ]
    },
    {
      "cell_type": "code",
      "metadata": {
        "id": "w8kpAKJm8ZSm",
        "colab_type": "code",
        "colab": {}
      },
      "source": [
        "#Python functional purity\n",
        "\n",
        "def naive_sum(list):\n",
        "    s = 0\n",
        "    for l in list:\n",
        "        s += l\n",
        "    return s\n",
        "  \n"
      ],
      "execution_count": 0,
      "outputs": []
    },
    {
      "cell_type": "code",
      "metadata": {
        "id": "cy1wO2Dp85pM",
        "colab_type": "code",
        "colab": {
          "base_uri": "https://localhost:8080/",
          "height": 34
        },
        "outputId": "c609c3a2-9714-47aa-fc78-0fef9f9cb130"
      },
      "source": [
        "def func1():\n",
        "    pass\n",
        "\n",
        "def func2():\n",
        "    pass\n",
        "\n",
        "def func3():\n",
        "    pass\n",
        "\n",
        "executing = lambda f: f()\n",
        "map(executing, [func1, func2, func3])\n"
      ],
      "execution_count": 17,
      "outputs": [
        {
          "output_type": "execute_result",
          "data": {
            "text/plain": [
              "<map at 0x7fd977272828>"
            ]
          },
          "metadata": {
            "tags": []
          },
          "execution_count": 17
        }
      ]
    },
    {
      "cell_type": "code",
      "metadata": {
        "id": "_bEfVZuR9LFR",
        "colab_type": "code",
        "colab": {
          "base_uri": "https://localhost:8080/",
          "height": 34
        },
        "outputId": "870d2c11-40d9-4441-f787-98bcabd0cbfb"
      },
      "source": [
        "# Python Recursion:\n",
        "\n",
        "def fib(n):\n",
        "    if n == 0: return 0\n",
        "    elif n == 1: return 1\n",
        "    else: return fib(n-1)+fib(n-2)\n",
        "\n",
        "# procedural code\n",
        "starting_number = 96\n",
        "\n",
        "# get the square of the number\n",
        "square = starting_number ** 2\n",
        "\n",
        "# increment the number by 1\n",
        "increment = square + 1\n",
        "\n",
        "# cube of the number\n",
        "cube = increment ** 3\n",
        "\n",
        "# decrease the cube by 1\n",
        "decrement = cube - 1\n",
        "\n",
        "# get the final result\n",
        "result = print(decrement) # output 783012621312\n"
      ],
      "execution_count": 20,
      "outputs": [
        {
          "output_type": "stream",
          "text": [
            "783012621312\n"
          ],
          "name": "stdout"
        }
      ]
    },
    {
      "cell_type": "code",
      "metadata": {
        "id": "2HyBW0vF9uR-",
        "colab_type": "code",
        "colab": {
          "base_uri": "https://localhost:8080/",
          "height": 34
        },
        "outputId": "556afd4a-fda2-4113-e3be-cee94bf4da80"
      },
      "source": [
        "# define a function `call` where you provide the function and the arguments\n",
        "def call(x, f):\n",
        "    return f(x)\n",
        "\n",
        "# define a function that returns the square\n",
        "square = lambda x : x*x\n",
        "\n",
        "# define a function that returns the increment\n",
        "increment = lambda x : x+1\n",
        "\n",
        "# define a function that returns the cube\n",
        "cube = lambda x : x*x*x\n",
        "\n",
        "# define a function that returns the decrement\n",
        "decrement = lambda x : x-1\n",
        "\n",
        "# put all the functions in a list in the order that you want to execute them\n",
        "funcs = [square, increment, cube, decrement]\n",
        "\n",
        "# bring it all together. Below is the non functional part. \n",
        "# in functional programming you separate the functional and the non functional parts.\n",
        "from functools import reduce # reduce is in the functools library\n",
        "print(reduce(call, funcs, 96)) # output 783012621312\n"
      ],
      "execution_count": 21,
      "outputs": [
        {
          "output_type": "stream",
          "text": [
            "783012621312\n"
          ],
          "name": "stdout"
        }
      ]
    }
  ]
}