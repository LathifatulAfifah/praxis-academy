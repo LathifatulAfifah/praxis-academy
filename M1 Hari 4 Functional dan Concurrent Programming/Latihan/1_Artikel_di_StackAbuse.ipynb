{
  "nbformat": 4,
  "nbformat_minor": 0,
  "metadata": {
    "colab": {
      "name": "Artikel di StackAbuse.ipynb",
      "provenance": [],
      "collapsed_sections": []
    },
    "kernelspec": {
      "name": "python3",
      "display_name": "Python 3"
    }
  },
  "cells": [
    {
      "cell_type": "code",
      "metadata": {
        "id": "_o-TbpqZobxq",
        "colab_type": "code",
        "outputId": "3417e745-406d-4be8-b0b3-504c26075d2f",
        "colab": {
          "base_uri": "https://localhost:8080/",
          "height": 51
        }
      },
      "source": [
        "# Functional Programming in Python\n",
        "\n",
        "# Pure Functions\n",
        "\n",
        "def multiply_2_pure(numbers):\n",
        "    new_numbers = []\n",
        "    for n in numbers:\n",
        "        new_numbers.append(n * 2)\n",
        "    return new_numbers\n",
        "\n",
        "original_numbers = [1, 3, 5, 10]\n",
        "changed_numbers = multiply_2_pure(original_numbers)\n",
        "print(original_numbers) # [1, 3, 5, 10]\n",
        "print(changed_numbers)  # [2, 6, 10, 20]\n"
      ],
      "execution_count": 0,
      "outputs": [
        {
          "output_type": "stream",
          "text": [
            "[1, 3, 5, 10]\n",
            "[2, 6, 10, 20]\n"
          ],
          "name": "stdout"
        }
      ]
    },
    {
      "cell_type": "code",
      "metadata": {
        "id": "obj2s2mfsCJf",
        "colab_type": "code",
        "outputId": "6bea5375-f937-475e-adb3-d7d392675bdb",
        "colab": {
          "base_uri": "https://localhost:8080/",
          "height": 68
        }
      },
      "source": [
        "# Immutability\n",
        "\n",
        "mutable_collection = ['Tim', 10, [4, 5]]\n",
        "immutable_collection = ('Tim', 10, [4, 5])\n",
        "\n",
        "# Reading from data types are essentially the same:\n",
        "print(mutable_collection[2])    # [4, 5]\n",
        "print(immutable_collection[2])  # [4, 5]\n",
        "\n",
        "# Let's change the 2nd value from 10 to 15\n",
        "mutable_collection[1] = 15\n",
        "\n",
        "# This fails with the tuple\n",
        "immutable_collection[2].append(6)\n",
        "print(immutable_collection[2]) "
      ],
      "execution_count": 0,
      "outputs": [
        {
          "output_type": "stream",
          "text": [
            "[4, 5]\n",
            "[4, 5]\n",
            "[4, 5, 6]\n"
          ],
          "name": "stdout"
        }
      ]
    },
    {
      "cell_type": "code",
      "metadata": {
        "id": "pjYJDajtx67n",
        "colab_type": "code",
        "outputId": "872f5d88-9eec-47b8-a17e-d7f633723475",
        "colab": {
          "base_uri": "https://localhost:8080/",
          "height": 102
        }
      },
      "source": [
        "# Higher Order Functions\n",
        "\n",
        "def write_repeat(message, n):\n",
        "    for i in range(n):\n",
        "        print(message)\n",
        "\n",
        "write_repeat('Hello', 5)\n",
        "\n"
      ],
      "execution_count": 0,
      "outputs": [
        {
          "output_type": "stream",
          "text": [
            "Hello\n",
            "Hello\n",
            "Hello\n",
            "Hello\n",
            "Hello\n"
          ],
          "name": "stdout"
        }
      ]
    },
    {
      "cell_type": "code",
      "metadata": {
        "id": "G1jB_ER9uw55",
        "colab_type": "code",
        "outputId": "bac0a819-b6d5-4457-974f-c6992c328e04",
        "colab": {
          "base_uri": "https://localhost:8080/",
          "height": 187
        }
      },
      "source": [
        "def hof_write_repeat(message, n, action):\n",
        "    for i in range(n):\n",
        "        action(message)\n",
        "\n",
        "hof_write_repeat('Hello', 5, print)\n",
        "\n",
        "# Import the logging library\n",
        "import logging\n",
        "# Log the output as an error instead\n",
        "hof_write_repeat('Hello', 5, logging.error)"
      ],
      "execution_count": 0,
      "outputs": [
        {
          "output_type": "stream",
          "text": [
            "ERROR:root:Hello\n",
            "ERROR:root:Hello\n",
            "ERROR:root:Hello\n",
            "ERROR:root:Hello\n",
            "ERROR:root:Hello\n"
          ],
          "name": "stderr"
        },
        {
          "output_type": "stream",
          "text": [
            "Hello\n",
            "Hello\n",
            "Hello\n",
            "Hello\n",
            "Hello\n"
          ],
          "name": "stdout"
        }
      ]
    },
    {
      "cell_type": "code",
      "metadata": {
        "id": "hPgafCTItvF2",
        "colab_type": "code",
        "outputId": "75761b38-97af-44cb-e06a-ca74d9824a11",
        "colab": {
          "base_uri": "https://localhost:8080/",
          "height": 34
        }
      },
      "source": [
        "def add2(numbers):\n",
        "    new_numbers = []\n",
        "    for n in numbers:\n",
        "        new_numbers.append(n + 2)\n",
        "    return new_numbers\n",
        "\n",
        "print(add2([23, 88])) # [25, 90]"
      ],
      "execution_count": 0,
      "outputs": [
        {
          "output_type": "stream",
          "text": [
            "[25, 90]\n"
          ],
          "name": "stdout"
        }
      ]
    },
    {
      "cell_type": "code",
      "metadata": {
        "id": "JiBOhIkq5jNj",
        "colab_type": "code",
        "outputId": "0ded84d2-2270-4cf7-ae0d-136317337abe",
        "colab": {
          "base_uri": "https://localhost:8080/",
          "height": 51
        }
      },
      "source": [
        "def hof_add(increment):\n",
        "    # Create a function that loops and adds the increment\n",
        "    def add_increment(numbers):\n",
        "        new_numbers = []\n",
        "        for n in numbers:\n",
        "            new_numbers.append(n + increment)\n",
        "        return new_numbers\n",
        "    # We return the function as we do any other value\n",
        "    return add_increment\n",
        "\n",
        "add5 = hof_add(5)\n",
        "print(add5([23, 88]))   # [28, 93]\n",
        "add10 = hof_add(10)\n",
        "print(add10([23, 88]))  # [33, 98]"
      ],
      "execution_count": 0,
      "outputs": [
        {
          "output_type": "stream",
          "text": [
            "[28, 93]\n",
            "[33, 98]\n"
          ],
          "name": "stdout"
        }
      ]
    },
    {
      "cell_type": "code",
      "metadata": {
        "id": "nZVatCI484j4",
        "colab_type": "code",
        "outputId": "10093040-9331-47a9-d046-253950704c6c",
        "colab": {
          "base_uri": "https://localhost:8080/",
          "height": 34
        }
      },
      "source": [
        "# Lambda Expressions\n",
        "\n",
        "def hof_product(multiplier):\n",
        "    return lambda x: x * multiplier\n",
        "\n",
        "mult6 = hof_product(6)\n",
        "print(mult6(6)) # 36\n"
      ],
      "execution_count": 0,
      "outputs": [
        {
          "output_type": "stream",
          "text": [
            "36\n"
          ],
          "name": "stdout"
        }
      ]
    },
    {
      "cell_type": "code",
      "metadata": {
        "id": "yMTv6dTU9qMb",
        "colab_type": "code",
        "outputId": "168584a8-ed3c-46fe-f569-33e7df5c1cfc",
        "colab": {
          "base_uri": "https://localhost:8080/",
          "height": 102
        }
      },
      "source": [
        "# Built-in Higher Order Functions\n",
        "\n",
        "# Map\n",
        "\n",
        "names = ['Shivani', 'Jason', 'Yusef', 'Sakura']\n",
        "greeted_names = map(lambda x: 'Hi ' + x, names)\n",
        "\n",
        "# This prints something similar to: <map object at 0x10ed93cc0>\n",
        "print(greeted_names)\n",
        "# Recall, that map returns an iterator \n",
        "\n",
        "# We can print all names in a for loop\n",
        "for name in greeted_names:\n",
        "    print(name)\n"
      ],
      "execution_count": 0,
      "outputs": [
        {
          "output_type": "stream",
          "text": [
            "<map object at 0x7f1cb2421358>\n",
            "Hi Shivani\n",
            "Hi Jason\n",
            "Hi Yusef\n",
            "Hi Sakura\n"
          ],
          "name": "stdout"
        }
      ]
    },
    {
      "cell_type": "code",
      "metadata": {
        "id": "WI5dALdODC19",
        "colab_type": "code",
        "outputId": "898fdcf2-ef81-45df-ab1a-193a32e8352a",
        "colab": {
          "base_uri": "https://localhost:8080/",
          "height": 34
        }
      },
      "source": [
        "# Filter\n",
        "\n",
        "numbers = [13, 4, 18, 35]\n",
        "div_by_5 = filter(lambda num: num % 5 == 0, numbers)\n",
        "\n",
        "# We can convert the iterator into a list\n",
        "print(list(div_by_5)) # [35]"
      ],
      "execution_count": 0,
      "outputs": [
        {
          "output_type": "stream",
          "text": [
            "[35]\n"
          ],
          "name": "stdout"
        }
      ]
    },
    {
      "cell_type": "code",
      "metadata": {
        "id": "jY6EcbdEP2jl",
        "colab_type": "code",
        "colab": {
          "base_uri": "https://localhost:8080/",
          "height": 34
        },
        "outputId": "44dce7e8-bc61-465b-efd9-29bc37ab0ff1"
      },
      "source": [
        "# Combining Map and Filter\n",
        "\n",
        "arbitrary_numbers = map(lambda num: num ** 3, filter(lambda num: num % 3 == 0, range(1, 21)))\n",
        "\n",
        "print(list(arbitrary_numbers)) # [27, 216, 729, 1728, 3375, 5832]"
      ],
      "execution_count": 1,
      "outputs": [
        {
          "output_type": "stream",
          "text": [
            "[27, 216, 729, 1728, 3375, 5832]\n"
          ],
          "name": "stdout"
        }
      ]
    },
    {
      "cell_type": "code",
      "metadata": {
        "id": "chCvg_zj_Egt",
        "colab_type": "code",
        "colab": {
          "base_uri": "https://localhost:8080/",
          "height": 34
        },
        "outputId": "251d9425-3004-47c0-9f57-8bb2a6071d9c"
      },
      "source": [
        "# List Comprehensions\n",
        "\n",
        "# Recall\n",
        "names = ['Shivani', 'Jan', 'Yusef', 'Sakura']\n",
        "# Instead of: map(lambda x: 'Hi ' + x, names), we can do\n",
        "greeted_names = ['Hi ' + name for name in names]\n",
        "\n",
        "print(greeted_names) # ['Hi Shivani', 'Hi Jason', 'Hi Yusef', 'Hi Sakura']"
      ],
      "execution_count": 2,
      "outputs": [
        {
          "output_type": "stream",
          "text": [
            "['Hi Shivani', 'Hi Jan', 'Hi Yusef', 'Hi Sakura']\n"
          ],
          "name": "stdout"
        }
      ]
    },
    {
      "cell_type": "code",
      "metadata": {
        "id": "iF8dNXZ__Tcu",
        "colab_type": "code",
        "colab": {
          "base_uri": "https://localhost:8080/",
          "height": 51
        },
        "outputId": "5bb772ea-2707-4e59-f121-17dcb96d8cfc"
      },
      "source": [
        "# Recall\n",
        "numbers = [13, 4, 18, 35]\n",
        "# Instead of: filter(lambda num: num % 5 == 0, numbers), we can do\n",
        "div_by_5 = [num for num in numbers if num % 5 == 0]\n",
        "\n",
        "print(div_by_5) # [35]\n",
        "\n",
        "# We can manage the combined case as well:\n",
        "# Instead of: \n",
        "# map(lambda num: num ** 3, filter(lambda num: num % 3 == 0, range(1, 21)))\n",
        "arbitrary_numbers = [num ** 3 for num in range(1, 21) if num % 3 == 0]\n",
        "print(arbitrary_numbers) # [27, 216, 729, 1728, 3375, 5832]"
      ],
      "execution_count": 4,
      "outputs": [
        {
          "output_type": "stream",
          "text": [
            "[35]\n",
            "[27, 216, 729, 1728, 3375, 5832]\n"
          ],
          "name": "stdout"
        }
      ]
    }
  ]
}