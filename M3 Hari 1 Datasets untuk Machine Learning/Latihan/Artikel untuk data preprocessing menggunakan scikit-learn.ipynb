{
 "cells": [
  {
   "cell_type": "code",
   "execution_count": 4,
   "metadata": {},
   "outputs": [],
   "source": [
    "# https://www.analyticsvidhya.com/blog/2016/07/practical-guide-data-preprocessing-python-scikit-learn/\n",
    "# Practical Guide on Data Preprocessing in Python using Scikit Learn\n",
    "# Available Data Set\n",
    "\n",
    "# Importing pandas\n",
    "import pandas as pd\n",
    "# Importing training data set\n",
    "X_train=pd.read_csv('X_train.csv')\n",
    "Y_train=pd.read_csv('Y_train.csv')\n",
    "# Importing testing data set\n",
    "X_test=pd.read_csv('X_test.csv')\n",
    "Y_test=pd.read_csv('Y_test.csv')"
   ]
  },
  {
   "cell_type": "code",
   "execution_count": 5,
   "metadata": {},
   "outputs": [
    {
     "name": "stdout",
     "output_type": "stream",
     "text": [
      "    Loan_ID Gender Married Dependents Education Self_Employed  \\\n",
      "0  LP001032   Male      No          0  Graduate            No   \n",
      "1  LP001824   Male     Yes          1  Graduate            No   \n",
      "2  LP002928   Male     Yes          0  Graduate            No   \n",
      "3  LP001814   Male     Yes          2  Graduate            No   \n",
      "4  LP002244   Male     Yes          0  Graduate            No   \n",
      "\n",
      "   ApplicantIncome  CoapplicantIncome  LoanAmount  Loan_Amount_Term  \\\n",
      "0             4950                0.0         125               360   \n",
      "1             2882             1843.0         123               480   \n",
      "2             3000             3416.0          56               180   \n",
      "3             9703                0.0         112               360   \n",
      "4             2333             2417.0         136               360   \n",
      "\n",
      "   Credit_History Property_Area  \n",
      "0               1         Urban  \n",
      "1               1     Semiurban  \n",
      "2               1     Semiurban  \n",
      "3               1         Urban  \n",
      "4               1         Urban  \n"
     ]
    }
   ],
   "source": [
    "print (X_train.head())"
   ]
  },
  {
   "cell_type": "code",
   "execution_count": null,
   "metadata": {},
   "outputs": [],
   "source": []
  }
 ],
 "metadata": {
  "kernelspec": {
   "display_name": "Python 3",
   "language": "python",
   "name": "python3"
  },
  "language_info": {
   "codemirror_mode": {
    "name": "ipython",
    "version": 3
   },
   "file_extension": ".py",
   "mimetype": "text/x-python",
   "name": "python",
   "nbconvert_exporter": "python",
   "pygments_lexer": "ipython3",
   "version": "3.7.3"
  }
 },
 "nbformat": 4,
 "nbformat_minor": 2
}
